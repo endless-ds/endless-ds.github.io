{
 "cells": [
  {
   "cell_type": "code",
   "execution_count": 1,
   "metadata": {},
   "outputs": [],
   "source": [
    "import pandas as pd\n",
    "import yfinance as yf\n",
    "import numpy as np\n",
    "import seaborn as sb\n",
    "from statistics import mean\n",
    "from math import exp"
   ]
  },
  {
   "cell_type": "code",
   "execution_count": 2,
   "metadata": {},
   "outputs": [
    {
     "data": {
      "text/html": [
       "<div>\n",
       "<style scoped>\n",
       "    .dataframe tbody tr th:only-of-type {\n",
       "        vertical-align: middle;\n",
       "    }\n",
       "\n",
       "    .dataframe tbody tr th {\n",
       "        vertical-align: top;\n",
       "    }\n",
       "\n",
       "    .dataframe thead th {\n",
       "        text-align: right;\n",
       "    }\n",
       "</style>\n",
       "<table border=\"1\" class=\"dataframe\">\n",
       "  <thead>\n",
       "    <tr style=\"text-align: right;\">\n",
       "      <th></th>\n",
       "      <th>Date</th>\n",
       "      <th>Open</th>\n",
       "      <th>High</th>\n",
       "      <th>Low</th>\n",
       "      <th>Close</th>\n",
       "      <th>Volume</th>\n",
       "      <th>Dividends</th>\n",
       "      <th>Stock Splits</th>\n",
       "    </tr>\n",
       "  </thead>\n",
       "  <tbody>\n",
       "    <tr>\n",
       "      <th>0</th>\n",
       "      <td>2010-01-04 00:00:00+07:00</td>\n",
       "      <td>2533.947998</td>\n",
       "      <td>2576.055908</td>\n",
       "      <td>2532.895996</td>\n",
       "      <td>2575.413086</td>\n",
       "      <td>18339300</td>\n",
       "      <td>0</td>\n",
       "      <td>0</td>\n",
       "    </tr>\n",
       "    <tr>\n",
       "      <th>1</th>\n",
       "      <td>2010-01-05 00:00:00+07:00</td>\n",
       "      <td>2575.616943</td>\n",
       "      <td>2606.069092</td>\n",
       "      <td>2575.616943</td>\n",
       "      <td>2605.277100</td>\n",
       "      <td>57043800</td>\n",
       "      <td>0</td>\n",
       "      <td>0</td>\n",
       "    </tr>\n",
       "  </tbody>\n",
       "</table>\n",
       "</div>"
      ],
      "text/plain": [
       "                        Date         Open         High          Low  \\\n",
       "0  2010-01-04 00:00:00+07:00  2533.947998  2576.055908  2532.895996   \n",
       "1  2010-01-05 00:00:00+07:00  2575.616943  2606.069092  2575.616943   \n",
       "\n",
       "         Close    Volume  Dividends  Stock Splits  \n",
       "0  2575.413086  18339300          0             0  \n",
       "1  2605.277100  57043800          0             0  "
      ]
     },
     "execution_count": 2,
     "metadata": {},
     "output_type": "execute_result"
    }
   ],
   "source": [
    "# idxc = yf.Ticker('^JKSE')\n",
    "# idxc.history(start='2010-01-04').to_csv('idxc.csv')\n",
    "idxc = pd.read_csv('idxc.csv')\n",
    "idxc.head(2)"
   ]
  },
  {
   "cell_type": "code",
   "execution_count": 3,
   "metadata": {},
   "outputs": [
    {
     "data": {
      "text/html": [
       "<div>\n",
       "<style scoped>\n",
       "    .dataframe tbody tr th:only-of-type {\n",
       "        vertical-align: middle;\n",
       "    }\n",
       "\n",
       "    .dataframe tbody tr th {\n",
       "        vertical-align: top;\n",
       "    }\n",
       "\n",
       "    .dataframe thead th {\n",
       "        text-align: right;\n",
       "    }\n",
       "</style>\n",
       "<table border=\"1\" class=\"dataframe\">\n",
       "  <thead>\n",
       "    <tr style=\"text-align: right;\">\n",
       "      <th></th>\n",
       "      <th>Date</th>\n",
       "      <th>Open</th>\n",
       "      <th>High</th>\n",
       "      <th>Low</th>\n",
       "      <th>Close</th>\n",
       "      <th>Volume</th>\n",
       "      <th>Year</th>\n",
       "      <th>Quarter</th>\n",
       "      <th>Month</th>\n",
       "      <th>Day</th>\n",
       "      <th>Log Return</th>\n",
       "    </tr>\n",
       "  </thead>\n",
       "  <tbody>\n",
       "    <tr>\n",
       "      <th>0</th>\n",
       "      <td>2010-01-04 00:00:00+07:00</td>\n",
       "      <td>2533.947998</td>\n",
       "      <td>2576.055908</td>\n",
       "      <td>2532.895996</td>\n",
       "      <td>2575.413086</td>\n",
       "      <td>18339300</td>\n",
       "      <td>2010</td>\n",
       "      <td>1</td>\n",
       "      <td>1</td>\n",
       "      <td>4</td>\n",
       "      <td>0.000000</td>\n",
       "    </tr>\n",
       "    <tr>\n",
       "      <th>1</th>\n",
       "      <td>2010-01-05 00:00:00+07:00</td>\n",
       "      <td>2575.616943</td>\n",
       "      <td>2606.069092</td>\n",
       "      <td>2575.616943</td>\n",
       "      <td>2605.277100</td>\n",
       "      <td>57043800</td>\n",
       "      <td>2010</td>\n",
       "      <td>1</td>\n",
       "      <td>1</td>\n",
       "      <td>5</td>\n",
       "      <td>0.011529</td>\n",
       "    </tr>\n",
       "  </tbody>\n",
       "</table>\n",
       "</div>"
      ],
      "text/plain": [
       "                        Date         Open         High          Low  \\\n",
       "0  2010-01-04 00:00:00+07:00  2533.947998  2576.055908  2532.895996   \n",
       "1  2010-01-05 00:00:00+07:00  2575.616943  2606.069092  2575.616943   \n",
       "\n",
       "         Close    Volume  Year  Quarter  Month  Day  Log Return  \n",
       "0  2575.413086  18339300  2010        1      1    4    0.000000  \n",
       "1  2605.277100  57043800  2010        1      1    5    0.011529  "
      ]
     },
     "execution_count": 3,
     "metadata": {},
     "output_type": "execute_result"
    }
   ],
   "source": [
    "idxc = idxc.drop(['Dividends','Stock Splits'], axis=1)\n",
    "idxc['Year'] = pd.to_datetime(idxc['Date']).dt.year\n",
    "idxc['Quarter'] = pd.to_datetime(idxc['Date']).dt.quarter\n",
    "idxc['Month'] = pd.to_datetime(idxc['Date']).dt.month\n",
    "idxc['Day'] = pd.to_datetime(idxc['Date']).dt.day\n",
    "idxc['Log Return'] = np.log(idxc['Close'].div(idxc['Close'].shift(1)).fillna(1))\n",
    "idxc.head(2)"
   ]
  },
  {
   "cell_type": "code",
   "execution_count": 9,
   "metadata": {},
   "outputs": [],
   "source": [
    "FOM_EOM_table = pd.DataFrame({\n",
    "    'year': [\n",
    "    idxc[(idxc['Year'] == yr) & (idxc['Quarter'] == mt)]['Year'].iloc[0]\n",
    "    for yr in range(2010,2023) for mt in range(1,5)\n",
    "    ] + [\n",
    "    idxc[(idxc['Year'] == yr) & (idxc['Quarter'] == mt)]['Year'].iloc[0]\n",
    "    for yr in range(2023,2024) for mt in range(1,3)\n",
    "    ]\n",
    "    ,\n",
    "    'month': [\n",
    "    idxc[(idxc['Year'] == yr) & (idxc['Quarter'] == mt)]['Quarter'].iloc[0]\n",
    "    for yr in range(2010,2023) for mt in range(1,5)\n",
    "    ] + [\n",
    "    idxc[(idxc['Year'] == yr) & (idxc['Quarter'] == mt)]['Quarter'].iloc[0]\n",
    "    for yr in range(2023,2024) for mt in range(1,3)\n",
    "    ]\n",
    "    ,\n",
    "    'FOM log return' : [\n",
    "    idxc[(idxc['Year'] == yr) & (idxc['Quarter'] == mt)]['Log Return'].iloc[0]\n",
    "    for yr in range(2010,2023) for mt in range(1,5)\n",
    "    ] + [\n",
    "    idxc[(idxc['Year'] == yr) & (idxc['Quarter'] == mt)]['Log Return'].iloc[0]\n",
    "    for yr in range(2023,2024) for mt in range(1,3)\n",
    "    ]\n",
    "    ,\n",
    "    'EOM log return' : [\n",
    "    idxc[(idxc['Year'] == yr) & (idxc['Quarter'] == mt)]['Log Return'].iloc[-1]\n",
    "    for yr in range(2010,2023) for mt in range(1,5)\n",
    "    ] + [\n",
    "    idxc[(idxc['Year'] == yr) & (idxc['Quarter'] == mt)]['Log Return'].iloc[-1]\n",
    "    for yr in range(2023,2024) for mt in range(1,3)\n",
    "    ]\n",
    "})"
   ]
  },
  {
   "cell_type": "code",
   "execution_count": 18,
   "metadata": {},
   "outputs": [
    {
     "name": "stdout",
     "output_type": "stream",
     "text": [
      "0.42857142857142855\n",
      "1.0016117046219208\n"
     ]
    }
   ],
   "source": [
    "print(\n",
    "    len(FOM_EOM_table[((FOM_EOM_table['EOM log return']) > 0) & (FOM_EOM_table['year'].isin([2020,2021,2022,2023]))]) / len(FOM_EOM_table[FOM_EOM_table['year'].isin([2020,2021,2022,2023])])\n",
    ")\n",
    "print(\n",
    "    exp(FOM_EOM_table[FOM_EOM_table['year'].isin([2020,2021,2022,2023])]['EOM log return'].mean())\n",
    ")"
   ]
  },
  {
   "cell_type": "code",
   "execution_count": 19,
   "metadata": {},
   "outputs": [
    {
     "name": "stdout",
     "output_type": "stream",
     "text": [
      "0.775\n",
      "1.005006663510455\n"
     ]
    }
   ],
   "source": [
    "print(\n",
    "    len(FOM_EOM_table[((FOM_EOM_table['EOM log return']) > 0) & (~FOM_EOM_table['year'].isin([2020,2021,2022,2023]))]) / len(FOM_EOM_table[~FOM_EOM_table['year'].isin([2020,2021,2022,2023])])\n",
    ")\n",
    "print(\n",
    "    exp(FOM_EOM_table[~FOM_EOM_table['year'].isin([2020,2021,2022,2023])]['EOM log return'].mean())\n",
    ")"
   ]
  }
 ],
 "metadata": {
  "kernelspec": {
   "display_name": "base",
   "language": "python",
   "name": "python3"
  },
  "language_info": {
   "codemirror_mode": {
    "name": "ipython",
    "version": 3
   },
   "file_extension": ".py",
   "mimetype": "text/x-python",
   "name": "python",
   "nbconvert_exporter": "python",
   "pygments_lexer": "ipython3",
   "version": "3.7.7"
  },
  "orig_nbformat": 4
 },
 "nbformat": 4,
 "nbformat_minor": 2
}
